{
 "cells": [
  {
   "cell_type": "code",
   "execution_count": null,
   "id": "668dc3a3",
   "metadata": {},
   "outputs": [],
   "source": [
    "#This is my main file for the poll project"
   ]
  },
  {
   "cell_type": "code",
   "execution_count": 37,
   "id": "9c31939a",
   "metadata": {},
   "outputs": [],
   "source": [
    "import os\n",
    "import csv\n"
   ]
  },
  {
   "cell_type": "code",
   "execution_count": 54,
   "id": "0c61eb4f",
   "metadata": {},
   "outputs": [
    {
     "data": {
      "text/plain": [
       "'Resources\\\\election_data.csv'"
      ]
     },
     "execution_count": 54,
     "metadata": {},
     "output_type": "execute_result"
    }
   ],
   "source": [
    "#set path to get the file for the poll\n",
    "pollcsvpath=os.path.join( 'Resources','election_data.csv')\n",
    "pollcsvpath"
   ]
  },
  {
   "cell_type": "code",
   "execution_count": 83,
   "id": "2b761f3e",
   "metadata": {},
   "outputs": [
    {
     "name": "stdout",
     "output_type": "stream",
     "text": [
      "Khan: 2218231 votes\n",
      "Correy: 704200 votes\n",
      "Li: 492940 votes\n",
      "O'Tooley: 105630 votes\n",
      "[('Khan', 2218231), ('Correy', 704200), ('Li', 492940), (\"O'Tooley\", 105630)]\n",
      "Total votes: 3521001\n",
      "Winner: Khan\n"
     ]
    }
   ],
   "source": [
    "#open the file with method 2\n",
    "with open(pollcsvpath) as pollfile:\n",
    "\n",
    "    #CSV reader specifies delimiter and variable that holds contents\n",
    "    poll = csv.reader(pollfile, delimiter=',')\n",
    "    #print(pollfile)\n",
    "    csv_header = next(poll)\n",
    "    #print(csv_header)\n",
    "    #set variables\n",
    "    total_votes=0\n",
    "    #candidate=\"Chris\"\n",
    "    cand_votes=0\n",
    "    winner=\"\"\n",
    "    non_county=0\n",
    "    candidates=[]\n",
    "    counties=[]\n",
    "    \n",
    "    #Loop thru the data and get a list of candidates\n",
    "    for row in poll:\n",
    "        total_votes=total_votes + 1\n",
    "        if  row[2] not in candidates:\n",
    "            candidates.append(row[2])\n",
    "     \n",
    "    \n",
    "    #Now, for each candidate count their votes\n",
    "       \n",
    "with open(pollcsvpath) as pollfile:\n",
    "    poll = csv.reader(pollfile, delimiter=',')\n",
    "    csv_header = next(poll)\n",
    "    votes=0\n",
    "    votes_list=[]\n",
    "    for x in candidates:\n",
    "            votes=0\n",
    "            #print(x)\n",
    "        #print(votes_list)\n",
    "            with open(pollcsvpath) as pollfile:\n",
    "                poll = csv.reader(pollfile, delimiter=',')\n",
    "                csv_header = next(poll)\n",
    "                for row in poll:\n",
    "                    if row[2] == x:\n",
    "                        votes=votes+1\n",
    "                    else:\n",
    "                        continue\n",
    "                    #print(x)\n",
    "            votes_list.append(votes)\n",
    "            print(f\"{x}: {votes} votes\")     \n",
    "#print(candidates)\n",
    "#print(votes_list)\n",
    "cand_votes_combined=zip(candidates,votes_list)\n",
    "zipped_list=list(cand_votes_combined)\n",
    "print(zipped_list)\n",
    "print(f'Total votes: {total_votes}')\n",
    "wmax=max(votes_list)\n",
    "#print(wmax)\n",
    "wi=votes_list.index(wmax)\n",
    "#print(wi)\n",
    "winner=candidates[wi]\n",
    "print(f'Winner: {winner}')\n"
   ]
  },
  {
   "cell_type": "code",
   "execution_count": null,
   "id": "b80420bd",
   "metadata": {},
   "outputs": [],
   "source": [
    "#set variables\n",
    "\n",
    "        \n",
    "\n",
    "        \n",
    "    "
   ]
  },
  {
   "cell_type": "code",
   "execution_count": null,
   "id": "f1a1f8cb",
   "metadata": {},
   "outputs": [],
   "source": []
  }
 ],
 "metadata": {
  "kernelspec": {
   "display_name": "Python 3 (ipykernel)",
   "language": "python",
   "name": "python3"
  },
  "language_info": {
   "codemirror_mode": {
    "name": "ipython",
    "version": 3
   },
   "file_extension": ".py",
   "mimetype": "text/x-python",
   "name": "python",
   "nbconvert_exporter": "python",
   "pygments_lexer": "ipython3",
   "version": "3.9.7"
  }
 },
 "nbformat": 4,
 "nbformat_minor": 5
}
