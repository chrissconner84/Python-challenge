{
 "cells": [
  {
   "cell_type": "code",
   "execution_count": null,
   "id": "668dc3a3",
   "metadata": {},
   "outputs": [],
   "source": [
    "#This is my main file for the poll project"
   ]
  },
  {
   "cell_type": "code",
   "execution_count": 1,
   "id": "9c31939a",
   "metadata": {},
   "outputs": [],
   "source": [
    "import os\n",
    "import csv"
   ]
  },
  {
   "cell_type": "code",
   "execution_count": 2,
   "id": "0c61eb4f",
   "metadata": {},
   "outputs": [],
   "source": [
    "#set path to get the file for the poll\n",
    "pollcsvpath=os.path.join( 'Resources','election_data.csv')"
   ]
  },
  {
   "cell_type": "code",
   "execution_count": 56,
   "id": "2b761f3e",
   "metadata": {},
   "outputs": [
    {
     "name": "stdout",
     "output_type": "stream",
     "text": [
      "Total votes: 3521001\n",
      "..............................\n",
      "Khan:63.000% with 2218231 votes\n",
      "Correy:20.000% with 704200 votes\n",
      "Li:14.000% with 492940 votes\n",
      "O'Tooley:3.000% with 105630 votes\n",
      "..................................\n",
      "Winner: Khan\n",
      "..................................\n"
     ]
    }
   ],
   "source": [
    "#open the file, read the file, and skip header\n",
    "with open(pollcsvpath) as pollfile:\n",
    "    poll = csv.reader(pollfile, delimiter=',')\n",
    "    csv_header = next(poll)\n",
    "    \n",
    "    #set variables\n",
    "    total_votes=0\n",
    "    cand_votes=0\n",
    "    winner=\"\"\n",
    "    candidates=[]\n",
    "       \n",
    "    #Loop thru the data and get a list of candidates\n",
    "    for row in poll:\n",
    "        total_votes=total_votes + 1\n",
    "        if  row[2] not in candidates:\n",
    "            candidates.append(row[2])\n",
    "     \n",
    "    \n",
    "#Now, for each candidate count their votes\n",
    "with open(pollcsvpath) as pollfile:\n",
    "    poll = csv.reader(pollfile, delimiter=',')\n",
    "    csv_header = next(poll)\n",
    "    votes=0\n",
    "    vote_perc=0\n",
    "    votes_list=[]\n",
    "    votes_list_perc=[]\n",
    "    \n",
    "     \n",
    "    \n",
    "    for x in candidates:\n",
    "        votes=0\n",
    "        with open(pollcsvpath) as pollfile:\n",
    "                poll = csv.reader(pollfile, delimiter=',')\n",
    "                csv_header = next(poll)\n",
    "                for row in poll:\n",
    "                    if row[2] == x:\n",
    "                        votes=votes+1\n",
    "                vote_perc=(votes)/(total_votes)\n",
    "                percentage=round((vote_perc*100),2)\n",
    "                votes_list.append(votes)\n",
    "                votes_list_perc.append(percentage)\n",
    "\n",
    "                \n",
    "print(f\"Total votes: {total_votes}\")           #Terminal Output line 1\n",
    "print(\"..............................\")        #Terminal Output line 2\n",
    "vpstr_list=[]\n",
    "tvstr_list=[]\n",
    "index=0\n",
    "\n",
    "#Convert the percentage and total votes to strings for file output\n",
    "for i in candidates:\n",
    "    vpstr=str(votes_list_perc[index])\n",
    "    tvstr=str(votes_list[index])\n",
    "    vpstr_list.append(vpstr)\n",
    "    tvstr_list.append(tvstr)\n",
    "    print(f'{i}:{vpstr}00% with {tvstr} votes') #Terminal Output lines 3-6\n",
    "    index=index+1\n",
    "\n",
    "print(f'..................................')    #Terminal Output line 7\n",
    "wmax=max(votes_list)\n",
    "wi=votes_list.index(wmax)\n",
    "winner=candidates[wi]\n",
    "\n",
    "\n",
    "print(f'Winner: {winner}')                      #Terminal Output line 8\n",
    "print(f'..................................')    #Terminal Output line 9\n",
    "\n",
    "#Text file Output\n",
    "output_path = os.path.join(\"Analysis\", \"election_analysis.txt\")\n",
    "with open(output_path, 'w') as pollout:\n",
    "    pollout.write(\"Total Votes: \" +str(total_votes))\n",
    "    pollout.write('\\n')\n",
    "    pollout.write(\"......................\")\n",
    "    pollout.write('\\n')\n",
    "    i=0\n",
    "    for x in candidates:\n",
    "        pollout.writelines((x)+': '+vpstr_list[i]+'00% '+'('+tvstr_list[i]+')')\n",
    "        pollout.writelines('\\n')\n",
    "        i=i+1            \n",
    "    pollout.write(\"......................\")\n",
    "    pollout.write('\\n')\n",
    "    pollout.write('Winner: '+(winner))    "
   ]
  },
  {
   "cell_type": "code",
   "execution_count": null,
   "id": "f1a1f8cb",
   "metadata": {},
   "outputs": [],
   "source": []
  }
 ],
 "metadata": {
  "kernelspec": {
   "display_name": "Python 3 (ipykernel)",
   "language": "python",
   "name": "python3"
  },
  "language_info": {
   "codemirror_mode": {
    "name": "ipython",
    "version": 3
   },
   "file_extension": ".py",
   "mimetype": "text/x-python",
   "name": "python",
   "nbconvert_exporter": "python",
   "pygments_lexer": "ipython3",
   "version": "3.9.7"
  }
 },
 "nbformat": 4,
 "nbformat_minor": 5
}
