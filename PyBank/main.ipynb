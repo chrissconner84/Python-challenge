{
 "cells": [
  {
   "cell_type": "code",
   "execution_count": null,
   "id": "d29372d8",
   "metadata": {},
   "outputs": [],
   "source": [
    "# This is my main page for the Bank project"
   ]
  },
  {
   "cell_type": "code",
   "execution_count": 41,
   "id": "0cf0f2ce",
   "metadata": {},
   "outputs": [],
   "source": [
    "#import the librearies needed\n",
    "import os\n",
    "import csv"
   ]
  },
  {
   "cell_type": "code",
   "execution_count": 42,
   "id": "141eec29",
   "metadata": {},
   "outputs": [],
   "source": [
    "#set path to get the file for the bank \n",
    "bankcsvpath=os.path.join( 'Resources', 'budget_data.csv')"
   ]
  },
  {
   "cell_type": "code",
   "execution_count": 44,
   "id": "502cda42",
   "metadata": {},
   "outputs": [
    {
     "name": "stdout",
     "output_type": "stream",
     "text": [
      "The total number of months in period is 86\n",
      "The total Profit and Loss is $38382578\n",
      "The average change is $-2315.12\n",
      "The highest month, Feb-2012, revenue change is $1926159\n",
      "The lowest month, Sep-2013, revenue change is $-2196167\n"
     ]
    }
   ],
   "source": [
    "#open the file with method 2\n",
    "with open(bankcsvpath) as bankfile:\n",
    "\n",
    "    #CSV reader specifies delimiter and variable that holds contents\n",
    "    csvreader = csv.reader(bankfile, delimiter=',')\n",
    "    #print(bankfile)\n",
    "    csv_header = next(csvreader)\n",
    "    #set variables\n",
    "    monthcount=0\n",
    "    cmr=0\n",
    "    pmr=0\n",
    "    tmr=0\n",
    "    lmr=867884\n",
    "    pmrc=0\n",
    "    cmrc=0\n",
    "    hmrc=0\n",
    "    lmrc=0\n",
    "    tmrc=0\n",
    "    hmrcp=\"\"\n",
    "    lmrcp=\"\"\n",
    "    #Loop the rows for calculations\n",
    "    for row in csvreader:\n",
    "        monthcount= monthcount + 1 #count total months\n",
    "        cmr=int(row[1])            #set current month revenue\n",
    "        tmr=tmr+cmr                #increment sum of the total revenue   \n",
    "        cmrc=cmr-lmr               #determine current month revenue change for previous month\n",
    "        tmrc=tmrc+cmrc             #increment sum of current of monthly revenue change\n",
    "        if cmrc > hmrc:            #compare current month revenue change to previous month revenue change\n",
    "            hmrc=cmrc              #set highest month revenue change\n",
    "            hmrcp=row[0]           #capture period of highest month revenue change\n",
    "        if cmrc < lmrc:            #compare current month reveune change to previous month revenue change\n",
    "            lmrc=cmrc              #set lowest month revenue change\n",
    "            lmrcp=row[0]           #capture period of lowest month revenue change  \n",
    "        lmr=cmr                    #set last month equal to curennt month before looping \n",
    "    amrc=tmrc/(monthcount-1)       #calculate the average monthly revenue change\n",
    "    \n",
    "    print(f'The total number of months in period is {monthcount}') \n",
    "    print(f'The total Profit and Loss is ${tmr}')\n",
    "    print(f'The average change is ${round(amrc,2)}')\n",
    "    print(f'The highest month, {hmrcp}, revenue change is ${hmrc}')\n",
    "    print(f'The lowest month, {lmrcp}, revenue change is ${lmrc}')\n",
    "\n",
    "#Create 2 lists for output and zip together    \n",
    "words=['Total months: ','Total: $ ','Average change: $',\n",
    "           'Greatest Increase in Profits: $ ','Greatest Decrease in Profits: $ ']\n",
    "values=[str(monthcount),str(tmr),str(round(amrc,2)),str(hmrcp)+' $'+str(hmrc),str(lmrcp)+' $'+str(lmrc)]\n",
    "lines=zip(words,values)\n",
    "\n",
    "#Output to a new text file\n",
    "    #Specify the file to write\n",
    "output_path = os.path.join(\"analysis\", \"analysis.txt\")\n",
    "#Open the file using \"write\" mode. Specify the variable to hold the contents\n",
    "with open(output_path, 'w') as bankout:\n",
    "    bankout.write(\"Financial Analysis\")\n",
    "    bankout.write('\\n')\n",
    "    bankout.write(\"......................\")\n",
    "    bankout.write('\\n')\n",
    "    for line in lines:\n",
    "        bankout.writelines(line)\n",
    "        bankout.writelines('\\n')\n",
    "        \n"
   ]
  },
  {
   "cell_type": "code",
   "execution_count": null,
   "id": "73d337e5",
   "metadata": {},
   "outputs": [],
   "source": []
  },
  {
   "cell_type": "code",
   "execution_count": null,
   "id": "22e60307",
   "metadata": {},
   "outputs": [],
   "source": []
  }
 ],
 "metadata": {
  "kernelspec": {
   "display_name": "Python 3 (ipykernel)",
   "language": "python",
   "name": "python3"
  },
  "language_info": {
   "codemirror_mode": {
    "name": "ipython",
    "version": 3
   },
   "file_extension": ".py",
   "mimetype": "text/x-python",
   "name": "python",
   "nbconvert_exporter": "python",
   "pygments_lexer": "ipython3",
   "version": "3.9.7"
  }
 },
 "nbformat": 4,
 "nbformat_minor": 5
}
